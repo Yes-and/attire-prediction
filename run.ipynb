{
 "cells": [
  {
   "cell_type": "code",
   "execution_count": 6,
   "id": "84e1bebd",
   "metadata": {},
   "outputs": [],
   "source": [
    "# import libraries\n",
    "import pandas as pd\n",
    "import numpy as np\n",
    "import seaborn as sns\n",
    "import matplotlib.pyplot as plt\n",
    "\n",
    "%matplotlib inline"
   ]
  },
  {
   "cell_type": "code",
   "execution_count": 7,
   "id": "a6b86091",
   "metadata": {},
   "outputs": [],
   "source": [
    "# import machine learning models\n",
    "from sklearn.ensemble import AdaBoostClassifier\n",
    "from sklearn.model_selection import train_test_split\n",
    "from sklearn.metrics import mean_squared_error as mse"
   ]
  },
  {
   "cell_type": "code",
   "execution_count": 227,
   "id": "5fe82d55",
   "metadata": {},
   "outputs": [],
   "source": [
    "# load the file\n",
    "df = pd.read_csv(\"data/final_test.csv\")"
   ]
  },
  {
   "cell_type": "code",
   "execution_count": 228,
   "id": "dad0a7ad",
   "metadata": {},
   "outputs": [
    {
     "data": {
      "text/plain": [
       "<AxesSubplot:>"
      ]
     },
     "execution_count": 228,
     "metadata": {},
     "output_type": "execute_result"
    },
    {
     "data": {
      "image/png": "[encoded data removed]",
      "text/plain": [
       "<Figure size 432x288 with 1 Axes>"
      ]
     },
     "metadata": {
      "needs_background": "light"
     },
     "output_type": "display_data"
    }
   ],
   "source": [
    "# show how much data is null\n",
    "sns.heatmap(df.isnull(), cbar = False)"
   ]
  },
  {
   "cell_type": "code",
   "execution_count": 229,
   "id": "795d4fe5",
   "metadata": {},
   "outputs": [],
   "source": [
    "# clean the data\n",
    "df = df.dropna()"
   ]
  },
  {
   "cell_type": "code",
   "execution_count": 230,
   "id": "f24a2987",
   "metadata": {},
   "outputs": [],
   "source": [
    "# assign the dependent and independent variables\n",
    "y = df.pop(\"size\")\n",
    "X = df"
   ]
  },
  {
   "cell_type": "code",
   "execution_count": 231,
   "id": "24672ef0",
   "metadata": {},
   "outputs": [],
   "source": [
    "# remove zeroes and turn data into int for simplicity\n",
    "df.loc[(df!=0).any(1)]\n",
    "df = df.astype(\"int\")"
   ]
  },
  {
   "cell_type": "code",
   "execution_count": 232,
   "id": "3f1296f4",
   "metadata": {},
   "outputs": [],
   "source": [
    "# prepare the test data\n",
    "X_train, X_test, y_train, y_test = train_test_split(X, y, test_size = 0.3)"
   ]
  },
  {
   "cell_type": "code",
   "execution_count": 233,
   "id": "77377da2",
   "metadata": {},
   "outputs": [
    {
     "data": {
      "text/plain": [
       "AdaBoostClassifier()"
      ]
     },
     "execution_count": 233,
     "metadata": {},
     "output_type": "execute_result"
    }
   ],
   "source": [
    "ada = AdaBoostClassifier()\n",
    "\n",
    "ada.fit(X_train, y_train)"
   ]
  },
  {
   "cell_type": "code",
   "execution_count": 259,
   "id": "d10a7a93",
   "metadata": {},
   "outputs": [
    {
     "name": "stdout",
     "output_type": "stream",
     "text": [
      "0       L\n",
      "1       M\n",
      "2       S\n",
      "3      XL\n",
      "4     XXL\n",
      "5     XXS\n",
      "6    XXXL\n",
      "Name: sizes, dtype: object\n",
      "0     4396\n",
      "1    14134\n",
      "2      819\n",
      "3     4485\n",
      "4      718\n",
      "5     5166\n",
      "6     6028\n",
      "Name: count, dtype: int64\n"
     ]
    }
   ],
   "source": [
    "prediction = ada.predict(X_test)\n",
    "\n",
    "out_df = pd.DataFrame()\n",
    "\n",
    "out_df[\"sizes\"] = np.unique(prediction)\n",
    "out_df[\"count\"] = [(prediction == size).sum() for size in sizes]\n",
    "\n",
    "print(out_df[\"sizes\"])\n",
    "print(out_df[\"count\"])"
   ]
  },
  {
   "cell_type": "code",
   "execution_count": 265,
   "id": "0a4b78f6",
   "metadata": {},
   "outputs": [],
   "source": [
    "# Now let's order the data nicely and display it\n",
    "order = {\"XXS\":1, \"S\":2, \"M\":3, \"L\":4, \"XL\":5, \"XXL\":6, \"XXXL\":7}\n",
    "out_df[\"weights\"] = [order[x] for x in out_df[\"sizes\"]]\n",
    "out_df.sort_values(\"weights\", inplace = True)"
   ]
  },
  {
   "cell_type": "code",
   "execution_count": 266,
   "id": "af75ade6",
   "metadata": {},
   "outputs": [
    {
     "data": {
      "text/plain": [
       "<BarContainer object of 7 artists>"
      ]
     },
     "execution_count": 266,
     "metadata": {},
     "output_type": "execute_result"
    },
    {
     "data": {
      "image/png": "[encoded data removed]",
      "text/plain": [
       "<Figure size 432x288 with 1 Axes>"
      ]
     },
     "metadata": {
      "needs_background": "light"
     },
     "output_type": "display_data"
    }
   ],
   "source": [
    "plt.bar(out_df[\"sizes\"], out_df[\"count\"])"
   ]
  },
  {
   "cell_type": "code",
   "execution_count": null,
   "id": "7921ebdc",
   "metadata": {},
   "outputs": [],
   "source": []
  }
 ],
 "metadata": {
  "kernelspec": {
   "display_name": "Python 3",
   "language": "python",
   "name": "python3"
  },
  "language_info": {
   "codemirror_mode": {
    "name": "ipython",
    "version": 3
   },
   "file_extension": ".py",
   "mimetype": "text/x-python",
   "name": "python",
   "nbconvert_exporter": "python",
   "pygments_lexer": "ipython3",
   "version": "3.8.8"
  }
 },
 "nbformat": 4,
 "nbformat_minor": 5
}
